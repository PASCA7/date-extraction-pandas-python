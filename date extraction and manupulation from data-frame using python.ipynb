{
 "cells": [
  {
   "cell_type": "code",
   "execution_count": 215,
   "metadata": {},
   "outputs": [
    {
     "name": "stderr",
     "output_type": "stream",
     "text": [
      "[nltk_data] Downloading package punkt to\n",
      "[nltk_data]     C:\\Users\\98900\\AppData\\Roaming\\nltk_data...\n",
      "[nltk_data]   Package punkt is already up-to-date!\n"
     ]
    },
    {
     "data": {
      "text/plain": [
       "True"
      ]
     },
     "execution_count": 215,
     "metadata": {},
     "output_type": "execute_result"
    }
   ],
   "source": [
    "from __future__ import division\n",
    "import pandas as pd \n",
    "import datefinder\n",
    "from nltk import word_tokenize\n",
    "import nltk, re, pprint\n",
    "nltk.download('punkt')"
   ]
  },
  {
   "cell_type": "code",
   "execution_count": 11,
   "metadata": {},
   "outputs": [],
   "source": [
    "'''raw = \"my name is maneesh yadav from prayagraj and date of birth is 13/dec/96\"'''"
   ]
  },
  {
   "cell_type": "code",
   "execution_count": 15,
   "metadata": {},
   "outputs": [
    {
     "name": "stdout",
     "output_type": "stream",
     "text": [
      "my\n",
      "name\n",
      "is\n",
      "maneesh\n",
      "yadav\n",
      "from\n",
      "prayagraj\n",
      "and\n",
      "date\n",
      "of\n",
      "birth\n",
      "is\n",
      "13/dec/96\n"
     ]
    }
   ],
   "source": [
    "'''a=word_tokenize(raw)\n",
    "a\n",
    "for i in a:\n",
    "    print(i)'''\n"
   ]
  },
  {
   "cell_type": "code",
   "execution_count": 74,
   "metadata": {},
   "outputs": [],
   "source": [
    "'''for i in a:\n",
    "    pass\n",
    "    mat = datefinder.find_dates(i)\n",
    "    for date in mat:\n",
    "        print(date)'''"
   ]
  },
  {
   "cell_type": "code",
   "execution_count": 216,
   "metadata": {},
   "outputs": [
    {
     "data": {
      "text/html": [
       "<div>\n",
       "<style scoped>\n",
       "    .dataframe tbody tr th:only-of-type {\n",
       "        vertical-align: middle;\n",
       "    }\n",
       "\n",
       "    .dataframe tbody tr th {\n",
       "        vertical-align: top;\n",
       "    }\n",
       "\n",
       "    .dataframe thead th {\n",
       "        text-align: right;\n",
       "    }\n",
       "</style>\n",
       "<table border=\"1\" class=\"dataframe\">\n",
       "  <thead>\n",
       "    <tr style=\"text-align: right;\">\n",
       "      <th></th>\n",
       "      <th>NAME_PLACE_WORK</th>\n",
       "      <th>START_DATE</th>\n",
       "      <th>INTERMIDIATE_DATE</th>\n",
       "      <th>LAST_DATE</th>\n",
       "    </tr>\n",
       "  </thead>\n",
       "  <tbody>\n",
       "    <tr>\n",
       "      <td>0</td>\n",
       "      <td>CONSTRUCTION</td>\n",
       "      <td>The starting date for the construction work is...</td>\n",
       "      <td>half completed on 12AUG20</td>\n",
       "      <td>2020-08-30 00:00:00</td>\n",
       "    </tr>\n",
       "    <tr>\n",
       "      <td>1</td>\n",
       "      <td>PROJECT</td>\n",
       "      <td>Project starting date 1 January 2009.</td>\n",
       "      <td>12-12-2012 at 11pm</td>\n",
       "      <td>12-05-2015 at 4pm</td>\n",
       "    </tr>\n",
       "    <tr>\n",
       "      <td>2</td>\n",
       "      <td>DEROGATION</td>\n",
       "      <td>Derogations for some countries regarding the s...</td>\n",
       "      <td>asia meetup on 2014  feb</td>\n",
       "      <td>end on 2nd aug</td>\n",
       "    </tr>\n",
       "    <tr>\n",
       "      <td>3</td>\n",
       "      <td>MADRID AIRPORT</td>\n",
       "      <td>7 December 1983 of two aircraft on the ground</td>\n",
       "      <td>20 August a serious accident occurred at Madri...</td>\n",
       "      <td>crashed on runway 01/19 at Madrid-Barajas Airport</td>\n",
       "    </tr>\n",
       "    <tr>\n",
       "      <td>4</td>\n",
       "      <td>WORLD WAR</td>\n",
       "      <td>1939 September 3 World War II begins , Resigna...</td>\n",
       "      <td>31-12-2001  2pm</td>\n",
       "      <td>march 23/2021</td>\n",
       "    </tr>\n",
       "    <tr>\n",
       "      <td>5</td>\n",
       "      <td>HINDU_CHEMISTRY</td>\n",
       "      <td>History of Hindu Chemistry’was published in  j...</td>\n",
       "      <td>16-06-1944  12pm</td>\n",
       "      <td>march 01-03-2009</td>\n",
       "    </tr>\n",
       "    <tr>\n",
       "      <td>6</td>\n",
       "      <td>MAYOR OF DELHI</td>\n",
       "      <td>Elected as first Mayor of Delhi, 1958 Nov.</td>\n",
       "      <td>In sep 1990 by BJP</td>\n",
       "      <td>last elected on dec 2017</td>\n",
       "    </tr>\n",
       "    <tr>\n",
       "      <td>7</td>\n",
       "      <td>BHAGAT SINGH</td>\n",
       "      <td>born on 28 sep 1907</td>\n",
       "      <td>In NOV 1923, he won an essay competition set b...</td>\n",
       "      <td>He was executed on March 23, 1931.</td>\n",
       "    </tr>\n",
       "    <tr>\n",
       "      <td>8</td>\n",
       "      <td>BALIRAM RAO</td>\n",
       "      <td>1 April 1889</td>\n",
       "      <td>rao founded the RSS in Nagpur in 27 September ...</td>\n",
       "      <td>1pm 21-06-1940</td>\n",
       "    </tr>\n",
       "    <tr>\n",
       "      <td>9</td>\n",
       "      <td>RSS</td>\n",
       "      <td>He established the Rashtriya Swayamsevak Sangh...</td>\n",
       "      <td>In 1940, Madhavrao Muley was appointed</td>\n",
       "      <td>new elected for rss candiate on 2015</td>\n",
       "    </tr>\n",
       "  </tbody>\n",
       "</table>\n",
       "</div>"
      ],
      "text/plain": [
       "   NAME_PLACE_WORK                                         START_DATE  \\\n",
       "0     CONSTRUCTION  The starting date for the construction work is...   \n",
       "1          PROJECT              Project starting date 1 January 2009.   \n",
       "2       DEROGATION  Derogations for some countries regarding the s...   \n",
       "3   MADRID AIRPORT      7 December 1983 of two aircraft on the ground   \n",
       "4        WORLD WAR  1939 September 3 World War II begins , Resigna...   \n",
       "5  HINDU_CHEMISTRY  History of Hindu Chemistry’was published in  j...   \n",
       "6   MAYOR OF DELHI         Elected as first Mayor of Delhi, 1958 Nov.   \n",
       "7    BHAGAT SINGH                                born on 28 sep 1907    \n",
       "8      BALIRAM RAO                                       1 April 1889   \n",
       "9              RSS  He established the Rashtriya Swayamsevak Sangh...   \n",
       "\n",
       "                                   INTERMIDIATE_DATE  \\\n",
       "0                         half completed on 12AUG20    \n",
       "1                                 12-12-2012 at 11pm   \n",
       "2                           asia meetup on 2014  feb   \n",
       "3  20 August a serious accident occurred at Madri...   \n",
       "4                                    31-12-2001  2pm   \n",
       "5                                   16-06-1944  12pm   \n",
       "6                                 In sep 1990 by BJP   \n",
       "7  In NOV 1923, he won an essay competition set b...   \n",
       "8  rao founded the RSS in Nagpur in 27 September ...   \n",
       "9             In 1940, Madhavrao Muley was appointed   \n",
       "\n",
       "                                           LAST_DATE  \n",
       "0                                2020-08-30 00:00:00  \n",
       "1                                 12-05-2015 at 4pm   \n",
       "2                                     end on 2nd aug  \n",
       "3  crashed on runway 01/19 at Madrid-Barajas Airport  \n",
       "4                                      march 23/2021  \n",
       "5                                   march 01-03-2009  \n",
       "6                           last elected on dec 2017  \n",
       "7                 He was executed on March 23, 1931.  \n",
       "8                                     1pm 21-06-1940  \n",
       "9               new elected for rss candiate on 2015  "
      ]
     },
     "execution_count": 216,
     "metadata": {},
     "output_type": "execute_result"
    }
   ],
   "source": [
    "df= pd.read_excel('date.xlsx')\n",
    "df\n"
   ]
  },
  {
   "cell_type": "code",
   "execution_count": 220,
   "metadata": {},
   "outputs": [
    {
     "data": {
      "text/plain": [
       "pandas.core.series.Series"
      ]
     },
     "execution_count": 220,
     "metadata": {},
     "output_type": "execute_result"
    }
   ],
   "source": [
    "type(df['NAME_PLACE_WORK'])"
   ]
  },
  {
   "cell_type": "code",
   "execution_count": 224,
   "metadata": {},
   "outputs": [
    {
     "data": {
      "text/plain": [
       "0    The starting date for the construction work is...\n",
       "1                Project starting date 1 January 2009.\n",
       "2    Derogations for some countries regarding the s...\n",
       "3        7 December 1983 of two aircraft on the ground\n",
       "4    1939 September 3 World War II begins , Resigna...\n",
       "5    History of Hindu Chemistry’was published in  j...\n",
       "6           Elected as first Mayor of Delhi, 1958 Nov.\n",
       "7                                 born on 28 sep 1907 \n",
       "8                                         1 April 1889\n",
       "9    He established the Rashtriya Swayamsevak Sangh...\n",
       "Name: START_DATE, dtype: object"
      ]
     },
     "execution_count": 224,
     "metadata": {},
     "output_type": "execute_result"
    }
   ],
   "source": [
    "#data present in column \n",
    "df['START_DATE']\n",
    "\n",
    "    "
   ]
  },
  {
   "cell_type": "code",
   "execution_count": 228,
   "metadata": {},
   "outputs": [],
   "source": [
    "lst=[]\n",
    "for date1 in df['START_DATE']:\n",
    "    #print(date1)\n",
    "    dat = datefinder.find_dates(date1)\n",
    "    #print(dat)\n",
    "    for date_1 in dat:\n",
    "        lst.append(date_1)\n",
    "        #df[date_1]=pd.\n",
    "#print(lst)\n",
    "df['date_1'] = lst \n",
    "\n"
   ]
  },
  {
   "cell_type": "code",
   "execution_count": 229,
   "metadata": {},
   "outputs": [],
   "source": [
    "lst2=[]\n",
    "for date2 in df['INTERMIDIATE_DATE']:\n",
    "    #print(date2)\n",
    "    dat2 = datefinder.find_dates(date2)\n",
    "    #print(dat2)\n",
    "    for date_2 in dat2:\n",
    "        lst2.append(date_2)\n",
    "        #print(date_2)\n",
    "df['date_2'] = lst2\n",
    "        "
   ]
  },
  {
   "cell_type": "code",
   "execution_count": 230,
   "metadata": {},
   "outputs": [],
   "source": [
    "lst3=[]\n",
    "for date3 in df['LAST_DATE']:\n",
    "    #print(date3)\n",
    "    dat3 = datefinder.find_dates(date2)\n",
    "    #print(dat3)\n",
    "    for date_3 in dat3:\n",
    "        lst3.append(date_3)\n",
    "        #print(date_3)\n",
    "df['date_3'] = lst3"
   ]
  },
  {
   "cell_type": "code",
   "execution_count": 231,
   "metadata": {},
   "outputs": [
    {
     "data": {
      "text/html": [
       "<div>\n",
       "<style scoped>\n",
       "    .dataframe tbody tr th:only-of-type {\n",
       "        vertical-align: middle;\n",
       "    }\n",
       "\n",
       "    .dataframe tbody tr th {\n",
       "        vertical-align: top;\n",
       "    }\n",
       "\n",
       "    .dataframe thead th {\n",
       "        text-align: right;\n",
       "    }\n",
       "</style>\n",
       "<table border=\"1\" class=\"dataframe\">\n",
       "  <thead>\n",
       "    <tr style=\"text-align: right;\">\n",
       "      <th></th>\n",
       "      <th>NAME_PLACE_WORK</th>\n",
       "      <th>START_DATE</th>\n",
       "      <th>INTERMIDIATE_DATE</th>\n",
       "      <th>LAST_DATE</th>\n",
       "      <th>date_1</th>\n",
       "      <th>date_2</th>\n",
       "      <th>date_3</th>\n",
       "      <th>date_1-date_2</th>\n",
       "      <th>date_2-date_3</th>\n",
       "      <th>date_1-date_3</th>\n",
       "    </tr>\n",
       "  </thead>\n",
       "  <tbody>\n",
       "    <tr>\n",
       "      <td>0</td>\n",
       "      <td>CONSTRUCTION</td>\n",
       "      <td>The starting date for the construction work is...</td>\n",
       "      <td>half completed on 12AUG20</td>\n",
       "      <td>2020-08-30 00:00:00</td>\n",
       "      <td>2020-06-23</td>\n",
       "      <td>2020-08-12 00:00:00</td>\n",
       "      <td>1940-08-18</td>\n",
       "      <td>50 days 00:00:00</td>\n",
       "      <td>-29214 days +00:00:00</td>\n",
       "      <td>-29164 days</td>\n",
       "    </tr>\n",
       "    <tr>\n",
       "      <td>1</td>\n",
       "      <td>PROJECT</td>\n",
       "      <td>Project starting date 1 January 2009.</td>\n",
       "      <td>12-12-2012 at 11pm</td>\n",
       "      <td>12-05-2015 at 4pm</td>\n",
       "      <td>2009-01-01</td>\n",
       "      <td>2012-12-12 23:00:00</td>\n",
       "      <td>1940-08-18</td>\n",
       "      <td>1441 days 23:00:00</td>\n",
       "      <td>-26415 days +01:00:00</td>\n",
       "      <td>-24973 days</td>\n",
       "    </tr>\n",
       "    <tr>\n",
       "      <td>2</td>\n",
       "      <td>DEROGATION</td>\n",
       "      <td>Derogations for some countries regarding the s...</td>\n",
       "      <td>asia meetup on 2014  feb</td>\n",
       "      <td>end on 2nd aug</td>\n",
       "      <td>2020-06-30</td>\n",
       "      <td>2014-02-18 00:00:00</td>\n",
       "      <td>1940-08-18</td>\n",
       "      <td>-2324 days +00:00:00</td>\n",
       "      <td>-26847 days +00:00:00</td>\n",
       "      <td>-29171 days</td>\n",
       "    </tr>\n",
       "    <tr>\n",
       "      <td>3</td>\n",
       "      <td>MADRID AIRPORT</td>\n",
       "      <td>7 December 1983 of two aircraft on the ground</td>\n",
       "      <td>20 August a serious accident occurred at Madri...</td>\n",
       "      <td>crashed on runway 01/19 at Madrid-Barajas Airport</td>\n",
       "      <td>1983-12-07</td>\n",
       "      <td>2020-08-20 00:00:00</td>\n",
       "      <td>1940-08-18</td>\n",
       "      <td>13406 days 00:00:00</td>\n",
       "      <td>-29222 days +00:00:00</td>\n",
       "      <td>-15816 days</td>\n",
       "    </tr>\n",
       "    <tr>\n",
       "      <td>4</td>\n",
       "      <td>WORLD WAR</td>\n",
       "      <td>1939 September 3 World War II begins , Resigna...</td>\n",
       "      <td>31-12-2001  2pm</td>\n",
       "      <td>march 23/2021</td>\n",
       "      <td>1939-09-03</td>\n",
       "      <td>2001-12-31 14:00:00</td>\n",
       "      <td>1940-08-18</td>\n",
       "      <td>22765 days 14:00:00</td>\n",
       "      <td>-22416 days +10:00:00</td>\n",
       "      <td>350 days</td>\n",
       "    </tr>\n",
       "  </tbody>\n",
       "</table>\n",
       "</div>"
      ],
      "text/plain": [
       "  NAME_PLACE_WORK                                         START_DATE  \\\n",
       "0    CONSTRUCTION  The starting date for the construction work is...   \n",
       "1         PROJECT              Project starting date 1 January 2009.   \n",
       "2      DEROGATION  Derogations for some countries regarding the s...   \n",
       "3  MADRID AIRPORT      7 December 1983 of two aircraft on the ground   \n",
       "4       WORLD WAR  1939 September 3 World War II begins , Resigna...   \n",
       "\n",
       "                                   INTERMIDIATE_DATE  \\\n",
       "0                         half completed on 12AUG20    \n",
       "1                                 12-12-2012 at 11pm   \n",
       "2                           asia meetup on 2014  feb   \n",
       "3  20 August a serious accident occurred at Madri...   \n",
       "4                                    31-12-2001  2pm   \n",
       "\n",
       "                                           LAST_DATE     date_1  \\\n",
       "0                                2020-08-30 00:00:00 2020-06-23   \n",
       "1                                 12-05-2015 at 4pm  2009-01-01   \n",
       "2                                     end on 2nd aug 2020-06-30   \n",
       "3  crashed on runway 01/19 at Madrid-Barajas Airport 1983-12-07   \n",
       "4                                      march 23/2021 1939-09-03   \n",
       "\n",
       "               date_2     date_3        date_1-date_2         date_2-date_3  \\\n",
       "0 2020-08-12 00:00:00 1940-08-18     50 days 00:00:00 -29214 days +00:00:00   \n",
       "1 2012-12-12 23:00:00 1940-08-18   1441 days 23:00:00 -26415 days +01:00:00   \n",
       "2 2014-02-18 00:00:00 1940-08-18 -2324 days +00:00:00 -26847 days +00:00:00   \n",
       "3 2020-08-20 00:00:00 1940-08-18  13406 days 00:00:00 -29222 days +00:00:00   \n",
       "4 2001-12-31 14:00:00 1940-08-18  22765 days 14:00:00 -22416 days +10:00:00   \n",
       "\n",
       "  date_1-date_3  \n",
       "0   -29164 days  \n",
       "1   -24973 days  \n",
       "2   -29171 days  \n",
       "3   -15816 days  \n",
       "4      350 days  "
      ]
     },
     "execution_count": 231,
     "metadata": {},
     "output_type": "execute_result"
    }
   ],
   "source": [
    "df['date_1-date_2'] = df['date_2'].sub(df['date_1'], axis=0)\n",
    "df['date_2-date_3'] = df['date_3'].sub(df['date_2'], axis=0)\n",
    "df['date_1-date_3'] = df['date_3'].sub(df['date_1'], axis=0)\n",
    "df.head()         "
   ]
  },
  {
   "cell_type": "code",
   "execution_count": 232,
   "metadata": {},
   "outputs": [],
   "source": [
    "df.to_csv('date extraction.csv')"
   ]
  },
  {
   "cell_type": "code",
   "execution_count": null,
   "metadata": {},
   "outputs": [],
   "source": []
  }
 ],
 "metadata": {
  "kernelspec": {
   "display_name": "Python 3",
   "language": "python",
   "name": "python3"
  },
  "language_info": {
   "codemirror_mode": {
    "name": "ipython",
    "version": 3
   },
   "file_extension": ".py",
   "mimetype": "text/x-python",
   "name": "python",
   "nbconvert_exporter": "python",
   "pygments_lexer": "ipython3",
   "version": "3.7.4"
  }
 },
 "nbformat": 4,
 "nbformat_minor": 2
}
